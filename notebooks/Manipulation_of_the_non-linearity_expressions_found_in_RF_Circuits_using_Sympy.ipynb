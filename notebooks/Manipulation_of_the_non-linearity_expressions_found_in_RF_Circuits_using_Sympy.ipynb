{
 "cells": [
  {
   "cell_type": "markdown",
   "metadata": {},
   "source": [
    "# Manipulation of the non-linearity expressions found in  RF Circuits using Sympy"
   ]
  },
  {
   "cell_type": "code",
   "execution_count": 1,
   "metadata": {
    "collapsed": false
   },
   "outputs": [],
   "source": [
    "# Import some libraries for python 3.x compatibility\n",
    "from __future__ import division"
   ]
  },
  {
   "cell_type": "markdown",
   "metadata": {},
   "source": [
    "In this entry I explore Sympy as symbolic manipulation tool for studing the non-linear behavior of RF circuits. Sympy is a relativly new library with a nice interface but still quite some problems that some times is necesary to circunvent.  Nevertheless the clean interface and the fact that sympy is just a Python module make it a intersting module to try. More specifically I was interested to know if I could use Sympy to symbolically study the non-linear effects over the spectrum of sinousoidal inputs.\n",
    "\n",
    "First I will take a non-linear system and calculate the output to a sinusoidal, then I will create some functios that will required to collect and classify the different harmonics at the output. Then I will calculate meticts like the 1dB compression point or the IIP3. Finally I would compare some results against the numerical solution for the 1dB compresion point."
   ]
  },
  {
   "cell_type": "markdown",
   "metadata": {},
   "source": [
    "## Harmonic distortion\n",
    "A non-linear system converts sinousoid signals of a single frequency, at its input, in signals with multiple frequencies. The frequencies of the signals at the output are integer multiples of the input frequency. \n",
    "To ilustrate that suppose a memoryless system, its tranfer function can be approximated by the following function, [1]:\n",
    "$$\n",
    "   y(t) \\approx \\alpha_1 x(t) + \\alpha_2 x(t)^2 + \\alpha_3 x(t)^3\n",
    "$$\n",
    "Lets determine the response of this system to a input signal $sin(\\omega t)$."
   ]
  },
  {
   "cell_type": "code",
   "execution_count": 2,
   "metadata": {
    "collapsed": false
   },
   "outputs": [],
   "source": [
    "# Importing sympy and setting the printing in the notebook|\n",
    "from sympy import symbols, init_printing\n",
    "import sympy as sym\n",
    "from sympy import exp, sin, cos, log, Abs, solve\n",
    "from sympy.abc import c\n",
    "init_printing()"
   ]
  },
  {
   "cell_type": "code",
   "execution_count": 3,
   "metadata": {
    "collapsed": false
   },
   "outputs": [
    {
     "data": {
      "image/png": "[encoded data removed]",
      "text/latex": [
       "$$\\alpha_1 x + \\alpha_2 x^{2} + \\alpha_3 x^{3}$$"
      ],
      "text/plain": [
       "                     2            3\n",
       "\\alpha₁⋅x + \\alpha₂⋅x  + \\alpha₃⋅x "
      ]
     },
     "execution_count": 3,
     "metadata": {},
     "output_type": "execute_result"
    }
   ],
   "source": [
    "x, t, a1, a2, a3, w, A= symbols('x, t, \\\\alpha_1, \\\\alpha_2, \\\\alpha_3, \\\\omega, A', Real=True)\n",
    "y = a1 * x + a2 * x ** 2 +  a3 * x ** 3\n",
    "y"
   ]
  },
  {
   "cell_type": "markdown",
   "metadata": {},
   "source": [
    "the response of this system to a sinousoidal is given by:"
   ]
  },
  {
   "cell_type": "code",
   "execution_count": 4,
   "metadata": {
    "collapsed": false
   },
   "outputs": [
    {
     "data": {
      "image/png": "[encoded data removed]",
      "text/latex": [
       "$$A^{3} \\alpha_3 \\cos^{3}{\\left (\\omega t \\right )} + A^{2} \\alpha_2 \\cos^{2}{\\left (\\omega t \\right )} + A \\alpha_1 \\cos{\\left (\\omega t \\right )}$$"
      ],
      "text/plain": [
       " 3            3              2            2                                   \n",
       "A ⋅\\alpha₃⋅cos (\\omega⋅t) + A ⋅\\alpha₂⋅cos (\\omega⋅t) + A⋅\\alpha₁⋅cos(\\omega⋅t\n",
       "\n",
       " \n",
       ")"
      ]
     },
     "execution_count": 4,
     "metadata": {},
     "output_type": "execute_result"
    }
   ],
   "source": [
    "y_onetone = y.subs(x, A*cos(w*t))\n",
    "y_onetone"
   ]
  },
  {
   "cell_type": "markdown",
   "metadata": {},
   "source": [
    "The  result given by Sympy is trivial. In order to descompose and identify the different frequency terms it necesary to reduce the power terms in the sinousoid fuctions. This task that is normally done by expanding the trigonometric functions, as the function TrigReduce function in Mathematica,  require a bit more of work in Sympy [Annex 1].  That can be achived  by rewriting the function using a exponential, then expand the resulting expression and finally collecting the cos terms. A bit complicated procedure, compared with Maxima and Sage."
   ]
  },
  {
   "cell_type": "code",
   "execution_count": 5,
   "metadata": {
    "collapsed": false
   },
   "outputs": [
    {
     "data": {
      "image/png": "[encoded data removed]",
      "text/latex": [
       "$$\\frac{3 \\alpha_3}{4} A^{3} \\cos{\\left (\\omega t \\right )} + \\frac{A^{3} \\alpha_3}{4} \\cos{\\left (3 \\omega t \\right )} + \\frac{A^{2} \\alpha_2}{2} \\cos{\\left (2 \\omega t \\right )} + \\frac{A^{2} \\alpha_2}{2} + A \\alpha_1 \\cos{\\left (\\omega t \\right )}$$"
      ],
      "text/plain": [
       "   3                          3                            2                  \n",
       "3⋅A ⋅\\alpha₃⋅cos(\\omega⋅t)   A ⋅\\alpha₃⋅cos(3⋅\\omega⋅t)   A ⋅\\alpha₂⋅cos(2⋅\\om\n",
       "────────────────────────── + ────────────────────────── + ────────────────────\n",
       "            4                            4                            2       \n",
       "\n",
       "          2                                  \n",
       "ega⋅t)   A ⋅\\alpha₂                          \n",
       "────── + ────────── + A⋅\\alpha₁⋅cos(\\omega⋅t)\n",
       "             2                               "
      ]
     },
     "execution_count": 5,
     "metadata": {},
     "output_type": "execute_result"
    }
   ],
   "source": [
    "# function to reduce the order of a expression contain terms like cos(w*t)**n\n",
    "from sympy import exp, sin, cos\n",
    "\n",
    "def expand_trig(expr):\n",
    "    # exapand the complete series\n",
    "    expr_int = expr.rewrite(cos, exp).rewrite(sin, exp).expand()\n",
    "    # Go from exp to sin and simplify \n",
    "    expr_int = expr_int.rewrite(exp, cos).expand()\n",
    "    return expr_int\n",
    "\n",
    "y_expand = expand_trig(y_onetone)\n",
    "y_expand"
   ]
  },
  {
   "cell_type": "markdown",
   "metadata": {},
   "source": [
    "The different terms can be collected easily with the *collect* function:"
   ]
  },
  {
   "cell_type": "code",
   "execution_count": 6,
   "metadata": {
    "collapsed": false
   },
   "outputs": [
    {
     "data": {
      "image/png": "[encoded data removed]",
      "text/latex": [
       "$$\\left \\{ 1 : \\frac{A^{2} \\alpha_2}{2}, \\quad \\cos{\\left (\\omega t \\right )} : \\frac{3 \\alpha_3}{4} A^{3} + A \\alpha_1, \\quad \\cos{\\left (2 \\omega t \\right )} : \\frac{A^{2} \\alpha_2}{2}, \\quad \\cos{\\left (3 \\omega t \\right )} : \\frac{A^{3} \\alpha_3}{4}\\right \\}$$"
      ],
      "text/plain": [
       "⎧    2                            3                                        2  \n",
       "⎪   A ⋅\\alpha₂                 3⋅A ⋅\\alpha₃                               A ⋅\\\n",
       "⎨1: ──────────, cos(\\omega⋅t): ──────────── + A⋅\\alpha₁, cos(2⋅\\omega⋅t): ────\n",
       "⎪       2                           4                                         \n",
       "⎩                                                                             \n",
       "\n",
       "                          3        ⎫\n",
       "alpha₂                   A ⋅\\alpha₃⎪\n",
       "──────, cos(3⋅\\omega⋅t): ──────────⎬\n",
       "2                            4     ⎪\n",
       "                                   ⎭"
      ]
     },
     "execution_count": 6,
     "metadata": {},
     "output_type": "execute_result"
    }
   ],
   "source": [
    "harmonics = y_expand.collect([cos(w*t), cos(2*w*t), cos(3*w*t)], evaluate=False)\n",
    "harmonics"
   ]
  },
  {
   "cell_type": "markdown",
   "metadata": {},
   "source": [
    "The main observation here is that the gain of the circuit depends on $\\alpha_1$ and also on $\\alpha_3$. If  $\\alpha_1\\alpha_3>0$ it is said that the circuit observes a expansive behavior, meaning that the gain will increase as the input amplitude increases. On the other hand if $\\alpha_1\\alpha_3<0$ the circuit exhibits a compresive behavior. Although expansive behavior can be observed in electronic systems in certain limited inputs ranges, as the expansive behavior in the output current of a transistor, electronic systems are always compressive if the amplitude of the input signal is observed in a range wide enough.\n",
    "\n",
    "## 1dB compression point\n",
    "A measurment of the compression of electronics systems is the 1dB compression point. That is the point where the gain of the circuits is 1dB lower than $\\alpha_1$ that is the ideal gain.\n",
    "\n",
    "We can calculate the 1dB compression point as: "
   ]
  },
  {
   "cell_type": "code",
   "execution_count": 7,
   "metadata": {
    "collapsed": false
   },
   "outputs": [
    {
     "data": {
      "image/png": "[encoded data removed]",
      "text/latex": [
       "$$\\frac{3 \\alpha_3}{4} A^{2} + \\alpha_1$$"
      ],
      "text/plain": [
       "   2                  \n",
       "3⋅A ⋅\\alpha₃          \n",
       "──────────── + \\alpha₁\n",
       "     4                "
      ]
     },
     "execution_count": 7,
     "metadata": {},
     "output_type": "execute_result"
    }
   ],
   "source": [
    "Gain = (harmonics[cos(w*t)]/A).simplify()\n",
    "Gain"
   ]
  },
  {
   "cell_type": "code",
   "execution_count": 8,
   "metadata": {
    "collapsed": false
   },
   "outputs": [
    {
     "data": {
      "image/png": "[encoded data removed]",
      "text/latex": [
       "$$\\left [ - 0.38078701284971 \\sqrt{- \\frac{\\alpha_1}{\\alpha_3}}, \\quad 0.38078701284971 \\sqrt{- \\frac{\\alpha_1}{\\alpha_3}}\\right ]$$"
      ],
      "text/plain": [
       "⎡                      ___________                       ___________⎤\n",
       "⎢                     ╱ -\\alpha₁                        ╱ -\\alpha₁  ⎥\n",
       "⎢-0.38078701284971⋅  ╱  ───────── , 0.38078701284971⋅  ╱  ───────── ⎥\n",
       "⎣                  ╲╱    \\alpha₃                     ╲╱    \\alpha₃  ⎦"
      ]
     },
     "execution_count": 8,
     "metadata": {},
     "output_type": "execute_result"
    }
   ],
   "source": [
    "A1dB = solve(Gain - a1/(10**(1/20)), A)\n",
    "A1dB"
   ]
  },
  {
   "cell_type": "markdown",
   "metadata": {},
   "source": [
    "The two roots have meaning as the amplitude of a sinousoidal could be also a negative signal and in both cases the system will reach the 1dB compression point.  This result is well known and can be easily found in the literature, the reader cold think that it is pointless to use sympy to find it, however it is imporant to note that a similar method can be used to find the a reduce expression for the 1dB compresion point of an arbitrary system $y$."
   ]
  },
  {
   "cell_type": "markdown",
   "metadata": {},
   "source": [
    "## Intermodulation\n",
    "In a similar way it is posible to find the intermodulation products of the same system. In this case the signal has to be replaced by the two tones modulation signal."
   ]
  },
  {
   "cell_type": "code",
   "execution_count": 9,
   "metadata": {
    "collapsed": false
   },
   "outputs": [
    {
     "data": {
      "image/png": "[encoded data removed]",
      "text/latex": [
       "$$\\alpha_1 \\left(A_{1} \\cos{\\left (\\omega_1 t \\right )} + A_{2} \\cos{\\left (\\omega_2 t \\right )}\\right) + \\alpha_2 \\left(A_{1} \\cos{\\left (\\omega_1 t \\right )} + A_{2} \\cos{\\left (\\omega_2 t \\right )}\\right)^{2} + \\alpha_3 \\left(A_{1} \\cos{\\left (\\omega_1 t \\right )} + A_{2} \\cos{\\left (\\omega_2 t \\right )}\\right)^{3}$$"
      ],
      "text/plain": [
       "                                                                              \n",
       "\\alpha₁⋅(A₁⋅cos(\\omega₁⋅t) + A₂⋅cos(\\omega₂⋅t)) + \\alpha₂⋅(A₁⋅cos(\\omega₁⋅t) +\n",
       "\n",
       "                   2                                                  3\n",
       " A₂⋅cos(\\omega₂⋅t))  + \\alpha₃⋅(A₁⋅cos(\\omega₁⋅t) + A₂⋅cos(\\omega₂⋅t)) "
      ]
     },
     "execution_count": 9,
     "metadata": {},
     "output_type": "execute_result"
    }
   ],
   "source": [
    "# Symbols for a two tones modulation \n",
    "w1, w2, A1, A2 = symbols('\\\\omega_1, \\\\omega_2, A_1, A_2', Real=True)\n",
    "y_twotones = y.subs(x, A1*cos(w1*t)+A2*cos(w2*t))\n",
    "y_twotones"
   ]
  },
  {
   "cell_type": "markdown",
   "metadata": {},
   "source": [
    "Similarly the two tones function has to be expand with the expand_trig function that was used before, buf after expanding the function we need to convert the "
   ]
  },
  {
   "cell_type": "code",
   "execution_count": 10,
   "metadata": {
    "collapsed": false
   },
   "outputs": [
    {
     "data": {
      "image/png": "[encoded data removed]",
      "text/latex": [
       "$$\\frac{3 \\alpha_3}{4} A_{1}^{3} \\cos{\\left (\\omega_1 t \\right )} + \\frac{A_{1}^{3} \\alpha_3}{4} \\cos{\\left (3 \\omega_1 t \\right )} + \\frac{3 A_{2}}{2} A_{1}^{2} \\alpha_3 \\cos{\\left (\\omega_2 t \\right )} + \\frac{3 A_{2}}{4} A_{1}^{2} \\alpha_3 \\cos{\\left (2 \\omega_1 t - \\omega_2 t \\right )} + \\frac{3 A_{2}}{4} A_{1}^{2} \\alpha_3 \\cos{\\left (2 \\omega_1 t + \\omega_2 t \\right )} + \\frac{A_{1}^{2} \\alpha_2}{2} \\cos{\\left (2 \\omega_1 t \\right )} + \\frac{A_{1}^{2} \\alpha_2}{2} + \\frac{3 A_{1}}{2} A_{2}^{2} \\alpha_3 \\cos{\\left (\\omega_1 t \\right )} + \\frac{3 A_{1}}{4} A_{2}^{2} \\alpha_3 \\cos{\\left (\\omega_1 t - 2 \\omega_2 t \\right )} + \\frac{3 A_{1}}{4} A_{2}^{2} \\alpha_3 \\cos{\\left (\\omega_1 t + 2 \\omega_2 t \\right )} + A_{1} A_{2} \\alpha_2 \\cos{\\left (\\omega_1 t - \\omega_2 t \\right )} + A_{1} A_{2} \\alpha_2 \\cos{\\left (\\omega_1 t + \\omega_2 t \\right )} + A_{1} \\alpha_1 \\cos{\\left (\\omega_1 t \\right )} + \\frac{3 \\alpha_3}{4} A_{2}^{3} \\cos{\\left (\\omega_2 t \\right )} + \\frac{A_{2}^{3} \\alpha_3}{4} \\cos{\\left (3 \\omega_2 t \\right )} + \\frac{A_{2}^{2} \\alpha_2}{2} \\cos{\\left (2 \\omega_2 t \\right )} + \\frac{A_{2}^{2} \\alpha_2}{2} + A_{2} \\alpha_1 \\cos{\\left (\\omega_2 t \\right )}$$"
      ],
      "text/plain": [
       "    3                            3                                2           \n",
       "3⋅A₁ ⋅\\alpha₃⋅cos(\\omega₁⋅t)   A₁ ⋅\\alpha₃⋅cos(3⋅\\omega₁⋅t)   3⋅A₁ ⋅A₂⋅\\alpha₃\n",
       "──────────────────────────── + ──────────────────────────── + ────────────────\n",
       "             4                              4                                2\n",
       "\n",
       "                      2                                               2       \n",
       "⋅cos(\\omega₂⋅t)   3⋅A₁ ⋅A₂⋅\\alpha₃⋅cos(2⋅\\omega₁⋅t - \\omega₂⋅t)   3⋅A₁ ⋅A₂⋅\\al\n",
       "─────────────── + ───────────────────────────────────────────── + ────────────\n",
       "                                        4                                     \n",
       "\n",
       "                                      2                              2        \n",
       "pha₃⋅cos(2⋅\\omega₁⋅t + \\omega₂⋅t)   A₁ ⋅\\alpha₂⋅cos(2⋅\\omega₁⋅t)   A₁ ⋅\\alpha₂\n",
       "───────────────────────────────── + ──────────────────────────── + ───────────\n",
       "          4                                      2                      2     \n",
       "\n",
       "          2                                 2                                 \n",
       "   3⋅A₁⋅A₂ ⋅\\alpha₃⋅cos(\\omega₁⋅t)   3⋅A₁⋅A₂ ⋅\\alpha₃⋅cos(\\omega₁⋅t - 2⋅\\omega\n",
       " + ─────────────────────────────── + ─────────────────────────────────────────\n",
       "                  2                                        4                  \n",
       "\n",
       "              2                                                               \n",
       "₂⋅t)   3⋅A₁⋅A₂ ⋅\\alpha₃⋅cos(\\omega₁⋅t + 2⋅\\omega₂⋅t)                          \n",
       "──── + ───────────────────────────────────────────── + A₁⋅A₂⋅\\alpha₂⋅cos(\\omeg\n",
       "                             4                                                \n",
       "\n",
       "                                                                              \n",
       "                                                                              \n",
       "a₁⋅t - \\omega₂⋅t) + A₁⋅A₂⋅\\alpha₂⋅cos(\\omega₁⋅t + \\omega₂⋅t) + A₁⋅\\alpha₁⋅cos(\n",
       "                                                                              \n",
       "\n",
       "                 3                            3                              2\n",
       "             3⋅A₂ ⋅\\alpha₃⋅cos(\\omega₂⋅t)   A₂ ⋅\\alpha₃⋅cos(3⋅\\omega₂⋅t)   A₂ \n",
       "\\omega₁⋅t) + ──────────────────────────── + ──────────────────────────── + ───\n",
       "                          4                              4                    \n",
       "\n",
       "                              2                                    \n",
       "⋅\\alpha₂⋅cos(2⋅\\omega₂⋅t)   A₂ ⋅\\alpha₂                            \n",
       "───────────────────────── + ─────────── + A₂⋅\\alpha₁⋅cos(\\omega₂⋅t)\n",
       "          2                      2                                 "
      ]
     },
     "execution_count": 10,
     "metadata": {},
     "output_type": "execute_result"
    }
   ],
   "source": [
    "# The function TR8 from simplify fu returns the \"sum of angles\" representation\n",
    "# of the terms like sin(x)*sin(y)\n",
    "from sympy.simplify.fu import TR8\n",
    "\n",
    "y_expand = expand_trig(y_twotones)\n",
    "# As sum of angles\n",
    "y_expand = TR8(y_expand).expand()\n",
    "y_expand"
   ]
  },
  {
   "cell_type": "markdown",
   "metadata": {},
   "source": [
    "those are all the terms that result of the expansion of this function, we can find easily the amplified terms, at frequencies $\\omega_1, \\omega_2$ and the intermodulation terms at frequencies $2\\omega_1 -\\omega_2, 2\\omega_1 -\\omega_2$"
   ]
  },
  {
   "cell_type": "code",
   "execution_count": 11,
   "metadata": {
    "collapsed": false
   },
   "outputs": [
    {
     "data": {
      "image/png": "[encoded data removed]",
      "text/latex": [
       "$$\\left \\{ 1 : \\frac{A_{1}^{3} \\alpha_3}{4} \\cos{\\left (3 \\omega_1 t \\right )} + \\frac{3 A_{2}}{4} A_{1}^{2} \\alpha_3 \\cos{\\left (2 \\omega_1 t + \\omega_2 t \\right )} + \\frac{A_{1}^{2} \\alpha_2}{2} \\cos{\\left (2 \\omega_1 t \\right )} + \\frac{A_{1}^{2} \\alpha_2}{2} + \\frac{3 A_{1}}{4} A_{2}^{2} \\alpha_3 \\cos{\\left (\\omega_1 t + 2 \\omega_2 t \\right )} + A_{1} A_{2} \\alpha_2 \\cos{\\left (\\omega_1 t - \\omega_2 t \\right )} + A_{1} A_{2} \\alpha_2 \\cos{\\left (\\omega_1 t + \\omega_2 t \\right )} + \\frac{A_{2}^{3} \\alpha_3}{4} \\cos{\\left (3 \\omega_2 t \\right )} + \\frac{A_{2}^{2} \\alpha_2}{2} \\cos{\\left (2 \\omega_2 t \\right )} + \\frac{A_{2}^{2} \\alpha_2}{2}, \\quad \\cos{\\left (\\omega_1 t \\right )} : \\frac{3 \\alpha_3}{4} A_{1}^{3} + \\frac{3 A_{1}}{2} A_{2}^{2} \\alpha_3 + A_{1} \\alpha_1, \\quad \\cos{\\left (\\omega_2 t \\right )} : \\frac{3 A_{2}}{2} A_{1}^{2} \\alpha_3 + \\frac{3 \\alpha_3}{4} A_{2}^{3} + A_{2} \\alpha_1, \\quad \\cos{\\left (\\omega_1 t - 2 \\omega_2 t \\right )} : \\frac{3 A_{1}}{4} A_{2}^{2} \\alpha_3, \\quad \\cos{\\left (2 \\omega_1 t - \\omega_2 t \\right )} : \\frac{3 A_{2}}{4} A_{1}^{2} \\alpha_3\\right \\}$$"
      ],
      "text/plain": [
       "⎧     3                                2                                      \n",
       "⎪   A₁ ⋅\\alpha₃⋅cos(3⋅\\omega₁⋅t)   3⋅A₁ ⋅A₂⋅\\alpha₃⋅cos(2⋅\\omega₁⋅t + \\omega₂⋅\n",
       "⎨1: ──────────────────────────── + ───────────────────────────────────────────\n",
       "⎪                4                                       4                    \n",
       "⎩                                                                             \n",
       "\n",
       "       2                              2                  2                    \n",
       "t)   A₁ ⋅\\alpha₂⋅cos(2⋅\\omega₁⋅t)   A₁ ⋅\\alpha₂   3⋅A₁⋅A₂ ⋅\\alpha₃⋅cos(\\omega₁\n",
       "── + ──────────────────────────── + ─────────── + ────────────────────────────\n",
       "                  2                      2                              4     \n",
       "                                                                              \n",
       "\n",
       "                                                                              \n",
       "⋅t + 2⋅\\omega₂⋅t)                                                             \n",
       "───────────────── + A₁⋅A₂⋅\\alpha₂⋅cos(\\omega₁⋅t - \\omega₂⋅t) + A₁⋅A₂⋅\\alpha₂⋅c\n",
       "                                                                              \n",
       "                                                                              \n",
       "\n",
       "                              3                              2                \n",
       "                            A₂ ⋅\\alpha₃⋅cos(3⋅\\omega₂⋅t)   A₂ ⋅\\alpha₂⋅cos(2⋅\\\n",
       "os(\\omega₁⋅t + \\omega₂⋅t) + ──────────────────────────── + ───────────────────\n",
       "                                         4                              2     \n",
       "                                                                              \n",
       "\n",
       "              2                              3                  2             \n",
       "omega₂⋅t)   A₂ ⋅\\alpha₂                  3⋅A₁ ⋅\\alpha₃   3⋅A₁⋅A₂ ⋅\\alpha₃     \n",
       "───────── + ───────────, cos(\\omega₁⋅t): ───────────── + ──────────────── + A₁\n",
       "                 2                             4                2             \n",
       "                                                                              \n",
       "\n",
       "                              2                  3                            \n",
       "                          3⋅A₁ ⋅A₂⋅\\alpha₃   3⋅A₂ ⋅\\alpha₃                    \n",
       "⋅\\alpha₁, cos(\\omega₂⋅t): ──────────────── + ───────────── + A₂⋅\\alpha₁, cos(\\\n",
       "                                 2                 4                          \n",
       "                                                                              \n",
       "\n",
       "                                2                                            2\n",
       "                         3⋅A₁⋅A₂ ⋅\\alpha₃                                3⋅A₁ \n",
       "omega₁⋅t - 2⋅\\omega₂⋅t): ────────────────, cos(2⋅\\omega₁⋅t - \\omega₂⋅t): ─────\n",
       "                                4                                             \n",
       "                                                                              \n",
       "\n",
       "           ⎫\n",
       "⋅A₂⋅\\alpha₃⎪\n",
       "───────────⎬\n",
       "  4        ⎪\n",
       "           ⎭"
      ]
     },
     "execution_count": 11,
     "metadata": {},
     "output_type": "execute_result"
    }
   ],
   "source": [
    "sel = [cos(w1*t), cos(w2*t), cos(2*w1*t-w2*t), cos(2*w2*t-w1*t)]\n",
    "y_terms = y_expand.collect(sel, evaluate=False)\n",
    "y_terms"
   ]
  },
  {
   "cell_type": "markdown",
   "metadata": {},
   "source": [
    "Printing the only terms we are interested in:"
   ]
  },
  {
   "cell_type": "code",
   "execution_count": 12,
   "metadata": {
    "collapsed": false
   },
   "outputs": [
    {
     "data": {
      "image/png": "[encoded data removed]",
      "text/latex": [
       "$$\\left \\{ \\cos{\\left (\\omega_1 t \\right )} : \\frac{3 \\alpha_3}{4} A_{1}^{3} + \\frac{3 A_{1}}{2} A_{2}^{2} \\alpha_3 + A_{1} \\alpha_1, \\quad \\cos{\\left (\\omega_2 t \\right )} : \\frac{3 A_{2}}{2} A_{1}^{2} \\alpha_3 + \\frac{3 \\alpha_3}{4} A_{2}^{3} + A_{2} \\alpha_1, \\quad \\cos{\\left (\\omega_1 t - 2 \\omega_2 t \\right )} : \\frac{3 A_{1}}{4} A_{2}^{2} \\alpha_3, \\quad \\cos{\\left (2 \\omega_1 t - \\omega_2 t \\right )} : \\frac{3 A_{2}}{4} A_{1}^{2} \\alpha_3\\right \\}$$"
      ],
      "text/plain": [
       "⎧                    3                  2                                     \n",
       "⎪                3⋅A₁ ⋅\\alpha₃   3⋅A₁⋅A₂ ⋅\\alpha₃                             \n",
       "⎨cos(\\omega₁⋅t): ───────────── + ──────────────── + A₁⋅\\alpha₁, cos(\\omega₂⋅t)\n",
       "⎪                      4                2                                     \n",
       "⎩                                                                             \n",
       "\n",
       "      2                  3                                                    \n",
       "  3⋅A₁ ⋅A₂⋅\\alpha₃   3⋅A₂ ⋅\\alpha₃                                            \n",
       ": ──────────────── + ───────────── + A₂⋅\\alpha₁, cos(\\omega₁⋅t - 2⋅\\omega₂⋅t):\n",
       "         2                 4                                                  \n",
       "                                                                              \n",
       "\n",
       "        2                                            2           ⎫\n",
       " 3⋅A₁⋅A₂ ⋅\\alpha₃                                3⋅A₁ ⋅A₂⋅\\alpha₃⎪\n",
       " ────────────────, cos(2⋅\\omega₁⋅t - \\omega₂⋅t): ────────────────⎬\n",
       "        4                                               4        ⎪\n",
       "                                                                 ⎭"
      ]
     },
     "execution_count": 12,
     "metadata": {},
     "output_type": "execute_result"
    }
   ],
   "source": [
    "y_filtered_terms = {key: y_terms[key] for key in sel}\n",
    "y_filtered_terms"
   ]
  },
  {
   "cell_type": "markdown",
   "metadata": {},
   "source": [
    "Lets calculate the *input third intercept point (IIP3)*, this is were the power of the ideal amplifier with gain $\\alpha_1$ would intercept the power of the *interdulation products of order three (IM3)*|"
   ]
  },
  {
   "cell_type": "code",
   "execution_count": 13,
   "metadata": {
    "collapsed": false
   },
   "outputs": [
    {
     "data": {
      "image/png": "[encoded data removed]",
      "text/latex": [
       "$$\\left [ 0, \\quad - \\frac{2 \\sqrt{3}}{3} \\sqrt[4]{\\frac{\\alpha_1^{2}}{\\alpha_3^{2}}}, \\quad \\frac{2 \\sqrt{3}}{3} \\sqrt[4]{\\frac{\\alpha_1^{2}}{\\alpha_3^{2}}}, \\quad - \\frac{2 i}{3} \\sqrt{3} \\sqrt[4]{\\frac{\\alpha_1^{2}}{\\alpha_3^{2}}}, \\quad \\frac{2 i}{3} \\sqrt{3} \\sqrt[4]{\\frac{\\alpha_1^{2}}{\\alpha_3^{2}}}\\right ]$$"
      ],
      "text/plain": [
       "⎡               __________              __________                __________  \n",
       "⎢              ╱        2              ╱        2                ╱        2   \n",
       "⎢             ╱  \\alpha₁              ╱  \\alpha₁                ╱  \\alpha₁    \n",
       "⎢   -2⋅√3⋅   ╱   ────────    2⋅√3⋅   ╱   ────────   -2⋅√3⋅ⅈ⋅   ╱   ────────   \n",
       "⎢         4 ╱           2         4 ╱           2           4 ╱           2   \n",
       "⎢         ╲╱     \\alpha₃          ╲╱     \\alpha₃            ╲╱     \\alpha₃    \n",
       "⎢0, ───────────────────────, ─────────────────────, ─────────────────────────,\n",
       "⎣              3                       3                        3             \n",
       "\n",
       "              __________⎤\n",
       "             ╱        2 ⎥\n",
       "            ╱  \\alpha₁  ⎥\n",
       " 2⋅√3⋅ⅈ⋅   ╱   ──────── ⎥\n",
       "        4 ╱           2 ⎥\n",
       "        ╲╱     \\alpha₃  ⎥\n",
       " ───────────────────────⎥\n",
       "            3           ⎦"
      ]
     },
     "execution_count": 13,
     "metadata": {},
     "output_type": "execute_result"
    }
   ],
   "source": [
    "# Lets substitude the terms A1, A2 for A  and find the power of the signal\n",
    "IM3 = ((y_filtered_terms[cos(2*w1*t-w2*t)]).subs({A2:A, A1:A}))**2\n",
    "LT = (a1*A)**2\n",
    "\n",
    "sol = solve(LT-IM3, A)\n",
    "IIP3 = sol[2]\n",
    "sol"
   ]
  },
  {
   "cell_type": "markdown",
   "metadata": {},
   "source": [
    "The term we are intersted is the second one as is the only one positive. If we replace $\\alpha_1$ and $\\alpha_3$ by its absulte values, we obtain result in the most common form:"
   ]
  },
  {
   "cell_type": "code",
   "execution_count": 14,
   "metadata": {
    "collapsed": false
   },
   "outputs": [
    {
     "data": {
      "image/png": "[encoded data removed]",
      "text/latex": [
       "$$\\frac{2 \\sqrt{3} \\sqrt{\\left|{\\alpha_1}\\right|}}{3 \\sqrt{\\left|{\\alpha_3}\\right|}}$$"
      ],
      "text/plain": [
       "       ___________\n",
       "2⋅√3⋅╲╱ │\\alpha₁│ \n",
       "──────────────────\n",
       "     ___________  \n",
       " 3⋅╲╱ │\\alpha₃│   "
      ]
     },
     "execution_count": 14,
     "metadata": {},
     "output_type": "execute_result"
    }
   ],
   "source": [
    "IIP3.subs({a1:Abs(a1), a3:Abs(a3)})"
   ]
  },
  {
   "cell_type": "markdown",
   "metadata": {},
   "source": [
    "## Generalizing the 1dB and IIP3 functions"
   ]
  },
  {
   "cell_type": "markdown",
   "metadata": {},
   "source": [
    "Now lets generalize this functions to find the 1dB compression point and the IIP3 for any function that can be represented by its Taylor expansion."
   ]
  },
  {
   "cell_type": "code",
   "execution_count": 15,
   "metadata": {
    "collapsed": false
   },
   "outputs": [],
   "source": [
    "def symbolic_1dB(f_x, x, x0=0, n=6):\n",
    "    '''\n",
    "    Returns a symbolic expression for the 1dB compression point of the input function: f_x(x). The function is\n",
    "    approximated by its taylor function around x0, with the function derivided n-times.\n",
    "    '''\n",
    "    A, w, t = symbols('A, \\\\omega, t', Positive=True)\n",
    "    # Calculate the taylor expression\n",
    "    f_x_taylor = sym.series(f_x, x=x, x0=x0, n=n).removeO()\n",
    "    # Calculate the un-compressed gain around x0\n",
    "    alpha1 = f_x_taylor.collect([x-x0], evaluate=False)[x-x0]\n",
    "    # Apply the one tone test\n",
    "    f_x_one_tone = f_x_taylor.subs(x, A*cos(w*t))\n",
    "    # Convert to trigonometric expresions as a*cos(w*t -2*w*t)\n",
    "    f_x_one_tone_expanded = expand_trig(f_x_one_tone)\n",
    "    # The compressed gain is found collecting the terms\n",
    "    Gain =(f_x_one_tone_expanded.collect([cos(w*t)], evaluate=False)[cos(w*t)]/A).simplify()\n",
    "    # Find where the compresion gain matches the un-compressed gain -1dB\n",
    "    A1dB = solve(Gain - alpha1/(10**(1/20)), A)\n",
    "    for term in A1dB:\n",
    "        term.simplify()\n",
    "    return A1dB\n",
    "\n",
    "def symbolic_IIP3(f_x, x, x0=0, n=6):\n",
    "    '''\n",
    "    Return a symbolic expression for the IM3 of a function tha represent the behavior\n",
    "    the method uses a tailor expansion around x0 to obtain the IM terms'''\n",
    "    A, w1, w2, t = symbols('A, \\\\omega1, \\\\omega2, t', Real=True)\n",
    "    # Calculate the taylor expression\n",
    "    f_x_taylor = sym.series(f_x, x=x, x0=x0, n=n).removeO()\n",
    "    # Calculate un-compressed gain around x0\n",
    "    alpha1 = f_x_taylor.collect([x-x0], evaluate=False)[x-x0]\n",
    "    # Applie the two tones test\n",
    "    f_x_two_tone = f_x_taylor.subs(x, A*cos(w1*t)+A*cos(w2*t))\n",
    "    # Expand trigonometric functions\n",
    "    f_x_two_tone_expanded = expand_trig(f_x_two_tone)\n",
    "    # As sum of angles\n",
    "    f_x_two_tone_expanded = TR8(f_x_two_tone_expanded).expand()\n",
    "    # Terms that are required\n",
    "    sel = [cos(w1*t), cos(w2*t), cos(2*w1*t-w2*t), cos(2*w2*t-w1*t)]\n",
    "    f_x_two_tone_expanded = f_x_two_tone_expanded.collect(sel, evaluate=False)\n",
    "    IM3 = (f_x_two_tone_expanded[cos(2*w1*t-w2*t)]) ** 2\n",
    "    LT = (alpha1 * A) ** 2\n",
    "    # solve the equation\n",
    "    IIP3 = solve(LT-IM3, A)\n",
    "    return IIP3"
   ]
  },
  {
   "cell_type": "markdown",
   "metadata": {},
   "source": [
    "In order to verify they work we can simplly create a third order function as shown below and calculate the 1dB compression point and the IIP3. These is shown below:"
   ]
  },
  {
   "cell_type": "code",
   "execution_count": 16,
   "metadata": {
    "collapsed": false
   },
   "outputs": [
    {
     "data": {
      "image/png": "[encoded data removed]",
      "text/latex": [
       "$$\\left [ - 0.38078701284971 \\sqrt{- \\frac{\\alpha_1}{\\alpha_3}}, \\quad 0.38078701284971 \\sqrt{- \\frac{\\alpha_1}{\\alpha_3}}\\right ]$$"
      ],
      "text/plain": [
       "⎡                      ___________                       ___________⎤\n",
       "⎢                     ╱ -\\alpha₁                        ╱ -\\alpha₁  ⎥\n",
       "⎢-0.38078701284971⋅  ╱  ───────── , 0.38078701284971⋅  ╱  ───────── ⎥\n",
       "⎣                  ╲╱    \\alpha₃                     ╲╱    \\alpha₃  ⎦"
      ]
     },
     "execution_count": 16,
     "metadata": {},
     "output_type": "execute_result"
    }
   ],
   "source": [
    "# Third order polynomy\n",
    "y_x = a1 * x + a2 * x ** 2 +  a3 * x ** 3\n",
    "A1dB_n = symbolic_1dB(y_x, x, n=6)\n",
    "A1dB_n"
   ]
  },
  {
   "cell_type": "code",
   "execution_count": 17,
   "metadata": {
    "collapsed": false
   },
   "outputs": [
    {
     "data": {
      "image/png": "[encoded data removed]",
      "text/latex": [
       "$$\\left [ 0, \\quad - \\frac{2 \\sqrt{3}}{3} \\sqrt[4]{\\frac{\\alpha_1^{2}}{\\alpha_3^{2}}}, \\quad \\frac{2 \\sqrt{3}}{3} \\sqrt[4]{\\frac{\\alpha_1^{2}}{\\alpha_3^{2}}}, \\quad - \\frac{2 i}{3} \\sqrt{3} \\sqrt[4]{\\frac{\\alpha_1^{2}}{\\alpha_3^{2}}}, \\quad \\frac{2 i}{3} \\sqrt{3} \\sqrt[4]{\\frac{\\alpha_1^{2}}{\\alpha_3^{2}}}\\right ]$$"
      ],
      "text/plain": [
       "⎡               __________              __________                __________  \n",
       "⎢              ╱        2              ╱        2                ╱        2   \n",
       "⎢             ╱  \\alpha₁              ╱  \\alpha₁                ╱  \\alpha₁    \n",
       "⎢   -2⋅√3⋅   ╱   ────────    2⋅√3⋅   ╱   ────────   -2⋅√3⋅ⅈ⋅   ╱   ────────   \n",
       "⎢         4 ╱           2         4 ╱           2           4 ╱           2   \n",
       "⎢         ╲╱     \\alpha₃          ╲╱     \\alpha₃            ╲╱     \\alpha₃    \n",
       "⎢0, ───────────────────────, ─────────────────────, ─────────────────────────,\n",
       "⎣              3                       3                        3             \n",
       "\n",
       "              __________⎤\n",
       "             ╱        2 ⎥\n",
       "            ╱  \\alpha₁  ⎥\n",
       " 2⋅√3⋅ⅈ⋅   ╱   ──────── ⎥\n",
       "        4 ╱           2 ⎥\n",
       "        ╲╱     \\alpha₃  ⎥\n",
       " ───────────────────────⎥\n",
       "            3           ⎦"
      ]
     },
     "execution_count": 17,
     "metadata": {},
     "output_type": "execute_result"
    }
   ],
   "source": [
    "IIP3_n = symbolic_IIP3(y_x, x, n=6)\n",
    "IIP3_n"
   ]
  },
  {
   "cell_type": "markdown",
   "metadata": {},
   "source": [
    "The second root and the third, that are the both positive and real, are the ones we are looking for and the result agree with the well known expression."
   ]
  },
  {
   "cell_type": "markdown",
   "metadata": {},
   "source": [
    "## 1dB3 and IIP3 of a differential pair using MOSFET transistors\n",
    "Suppose a differential cmos pair with quadratic law transistors. It can be shown that the characteristic function of this system behaves as:"
   ]
  },
  {
   "cell_type": "code",
   "execution_count": 18,
   "metadata": {
    "collapsed": false
   },
   "outputs": [
    {
     "data": {
      "image/png": "[encoded data removed]",
      "text/latex": [
       "$$\\frac{C_{{ox}} W \\mu_n v_{d}}{2 L} \\sqrt{- v_{d}^{2} + \\frac{4 I_{{SS}} L}{C_{{ox}} W \\mu_n}}$$"
      ],
      "text/plain": [
       "                       _________________________\n",
       "                      ╱      2     4⋅I_{SS}⋅L   \n",
       "C_{ox}⋅W⋅\\mu_n⋅v_d⋅  ╱  - v_d  + ────────────── \n",
       "                   ╲╱            C_{ox}⋅W⋅\\mu_n \n",
       "────────────────────────────────────────────────\n",
       "                      2⋅L                       "
      ]
     },
     "execution_count": 18,
     "metadata": {},
     "output_type": "execute_result"
    }
   ],
   "source": [
    "from sympy import sqrt, Rational\n",
    "un, Cox, W, L, vd, ISS =  symbols('\\\\mu_n, C_{ox}, W, L , v_d, I_{SS}', positive=True)\n",
    "Id  = Rational(1 / 2) * un * Cox * W / L * vd *sqrt(4 * ISS / un /Cox /(W/L) - vd**2)\n",
    "Id"
   ]
  },
  {
   "cell_type": "markdown",
   "metadata": {},
   "source": [
    "We can calculate the 1dB compresion point and the IIP3 easily with the functions we find above, that gives:"
   ]
  },
  {
   "cell_type": "code",
   "execution_count": 19,
   "metadata": {
    "collapsed": false
   },
   "outputs": [
    {
     "data": {
      "image/png": "[encoded data removed]",
      "text/latex": [
       "$$\\left [ - \\frac{1.04751152546383 \\sqrt{I_{{SS}}} \\sqrt{L}}{\\sqrt{C_{{ox}}} \\sqrt{W} \\sqrt{\\mu_n}}, \\quad \\frac{1.04751152546383 \\sqrt{I_{{SS}}} \\sqrt{L}}{\\sqrt{C_{{ox}}} \\sqrt{W} \\sqrt{\\mu_n}}, \\quad - \\frac{4.50525031446418 i \\sqrt{I_{{SS}}} \\sqrt{L}}{\\sqrt{C_{{ox}}} \\sqrt{W} \\sqrt{\\mu_n}}, \\quad \\frac{4.50525031446418 i \\sqrt{I_{{SS}}} \\sqrt{L}}{\\sqrt{C_{{ox}}} \\sqrt{W} \\sqrt{\\mu_n}}\\right ]$$"
      ],
      "text/plain": [
       "⎡                    ________                         ________                \n",
       "⎢-1.04751152546383⋅╲╱ I_{SS} ⋅√L   1.04751152546383⋅╲╱ I_{SS} ⋅√L  -4.50525031\n",
       "⎢────────────────────────────────, ──────────────────────────────, ───────────\n",
       "⎢      ________      _______            ________      _______             ____\n",
       "⎣    ╲╱ C_{ox} ⋅√W⋅╲╱ \\mu_n           ╲╱ C_{ox} ⋅√W⋅╲╱ \\mu_n            ╲╱ C_{\n",
       "\n",
       "           ________                           ________   ⎤\n",
       "446418⋅ⅈ⋅╲╱ I_{SS} ⋅√L   4.50525031446418⋅ⅈ⋅╲╱ I_{SS} ⋅√L⎥\n",
       "───────────────────────, ────────────────────────────────⎥\n",
       "____      _______              ________      _______     ⎥\n",
       "ox} ⋅√W⋅╲╱ \\mu_n             ╲╱ C_{ox} ⋅√W⋅╲╱ \\mu_n      ⎦"
      ]
     },
     "execution_count": 19,
     "metadata": {},
     "output_type": "execute_result"
    }
   ],
   "source": [
    "A1dB_n = symbolic_1dB(Id, vd, n=6)\n",
    "A1dB_n"
   ]
  },
  {
   "cell_type": "code",
   "execution_count": 20,
   "metadata": {
    "collapsed": false
   },
   "outputs": [
    {
     "data": {
      "image/png": "[encoded data removed]",
      "text/latex": [
       "$$\\left [ 0, \\quad - \\frac{4 \\sqrt{2} \\sqrt{I_{{SS}}} \\sqrt{L}}{\\sqrt{C_{{ox}}} \\sqrt{W} \\sqrt{\\mu_n}} \\sqrt{- \\frac{3}{50} + \\frac{\\sqrt{109}}{50}}, \\quad \\frac{4 \\sqrt{2} \\sqrt{I_{{SS}}} \\sqrt{L}}{\\sqrt{C_{{ox}}} \\sqrt{W} \\sqrt{\\mu_n}} \\sqrt{- \\frac{3}{50} + \\frac{\\sqrt{109}}{50}}, \\quad - \\frac{4 \\sqrt{2} \\sqrt{I_{{SS}}} \\sqrt{L}}{\\sqrt{C_{{ox}}} \\sqrt{W} \\sqrt{\\mu_n}} \\sqrt{- \\frac{3}{50} - \\frac{\\sqrt{91} i}{50}}, \\quad \\frac{4 \\sqrt{2} \\sqrt{I_{{SS}}} \\sqrt{L}}{\\sqrt{C_{{ox}}} \\sqrt{W} \\sqrt{\\mu_n}} \\sqrt{- \\frac{3}{50} - \\frac{\\sqrt{91} i}{50}}, \\quad - \\frac{4 \\sqrt{2} \\sqrt{I_{{SS}}} \\sqrt{L}}{\\sqrt{C_{{ox}}} \\sqrt{W} \\sqrt{\\mu_n}} \\sqrt{- \\frac{3}{50} + \\frac{\\sqrt{91} i}{50}}, \\quad \\frac{4 \\sqrt{2} \\sqrt{I_{{SS}}} \\sqrt{L}}{\\sqrt{C_{{ox}}} \\sqrt{W} \\sqrt{\\mu_n}} \\sqrt{- \\frac{3}{50} + \\frac{\\sqrt{91} i}{50}}, \\quad - \\frac{4 \\sqrt{2} \\sqrt{I_{{SS}}} \\sqrt{L}}{\\sqrt{C_{{ox}}} \\sqrt{W} \\sqrt{\\mu_n}} \\sqrt{- \\frac{\\sqrt{109}}{50} - \\frac{3}{50}}, \\quad \\frac{4 \\sqrt{2} \\sqrt{I_{{SS}}} \\sqrt{L}}{\\sqrt{C_{{ox}}} \\sqrt{W} \\sqrt{\\mu_n}} \\sqrt{- \\frac{\\sqrt{109}}{50} - \\frac{3}{50}}\\right ]$$"
      ],
      "text/plain": [
       "⎡                           _____________                          ___________\n",
       "⎢           ________       ╱   3    √109           ________       ╱   3    √10\n",
       "⎢   -4⋅√2⋅╲╱ I_{SS} ⋅√L⋅  ╱  - ── + ────    4⋅√2⋅╲╱ I_{SS} ⋅√L⋅  ╱  - ── + ───\n",
       "⎢                       ╲╱     50    50                        ╲╱     50    50\n",
       "⎢0, ──────────────────────────────────────, ──────────────────────────────────\n",
       "⎢            ________      _______                  ________      _______     \n",
       "⎣          ╲╱ C_{ox} ⋅√W⋅╲╱ \\mu_n                 ╲╱ C_{ox} ⋅√W⋅╲╱ \\mu_n      \n",
       "\n",
       "__                          ______________                          __________\n",
       "9           ________       ╱   3    √91⋅ⅈ           ________       ╱   3    √9\n",
       "─   -4⋅√2⋅╲╱ I_{SS} ⋅√L⋅  ╱  - ── - ─────    4⋅√2⋅╲╱ I_{SS} ⋅√L⋅  ╱  - ── - ──\n",
       "                        ╲╱     50     50                        ╲╱     50     \n",
       "──, ───────────────────────────────────────, ─────────────────────────────────\n",
       "              ________      _______                   ________      _______   \n",
       "            ╲╱ C_{ox} ⋅√W⋅╲╱ \\mu_n                  ╲╱ C_{ox} ⋅√W⋅╲╱ \\mu_n    \n",
       "\n",
       "____                          ______________                          ________\n",
       "1⋅ⅈ           ________       ╱   3    √91⋅ⅈ           ________       ╱   3    \n",
       "───   -4⋅√2⋅╲╱ I_{SS} ⋅√L⋅  ╱  - ── + ─────    4⋅√2⋅╲╱ I_{SS} ⋅√L⋅  ╱  - ── + \n",
       "50                        ╲╱     50     50                        ╲╱     50   \n",
       "────, ───────────────────────────────────────, ───────────────────────────────\n",
       "                ________      _______                   ________      _______ \n",
       "              ╲╱ C_{ox} ⋅√W⋅╲╱ \\mu_n                  ╲╱ C_{ox} ⋅√W⋅╲╱ \\mu_n  \n",
       "\n",
       "______                          _____________                          _______\n",
       "√91⋅ⅈ           ________       ╱   √109   3            ________       ╱   √109\n",
       "─────   -4⋅√2⋅╲╱ I_{SS} ⋅√L⋅  ╱  - ──── - ──    4⋅√2⋅╲╱ I_{SS} ⋅√L⋅  ╱  - ────\n",
       "  50                        ╲╱      50    50                       ╲╱      50 \n",
       "──────, ──────────────────────────────────────, ──────────────────────────────\n",
       "                 ________      _______                  ________      _______ \n",
       "               ╲╱ C_{ox} ⋅√W⋅╲╱ \\mu_n                 ╲╱ C_{ox} ⋅√W⋅╲╱ \\mu_n  \n",
       "\n",
       "______⎤\n",
       "   3  ⎥\n",
       " - ── ⎥\n",
       "   50 ⎥\n",
       "──────⎥\n",
       "      ⎥\n",
       "      ⎦"
      ]
     },
     "execution_count": 20,
     "metadata": {},
     "output_type": "execute_result"
    }
   ],
   "source": [
    "IIP3_n  = symbolic_IIP3(Id, vd, n=6)\n",
    "IIP3_n"
   ]
  },
  {
   "cell_type": "markdown",
   "metadata": {},
   "source": [
    "Selecting the roots of that make sense in both cases we have:"
   ]
  },
  {
   "cell_type": "code",
   "execution_count": 21,
   "metadata": {
    "collapsed": false
   },
   "outputs": [
    {
     "data": {
      "image/png": "[encoded data removed]",
      "text/latex": [
       "$$\\frac{1.04751152546383 \\sqrt{I_{{SS}}} \\sqrt{L}}{\\sqrt{C_{{ox}}} \\sqrt{W} \\sqrt{\\mu_n}}$$"
      ],
      "text/plain": [
       "                   ________   \n",
       "1.04751152546383⋅╲╱ I_{SS} ⋅√L\n",
       "──────────────────────────────\n",
       "     ________      _______    \n",
       "   ╲╱ C_{ox} ⋅√W⋅╲╱ \\mu_n     "
      ]
     },
     "execution_count": 21,
     "metadata": {},
     "output_type": "execute_result"
    }
   ],
   "source": [
    "A1dB = A1dB_n[1]\n",
    "A1dB"
   ]
  },
  {
   "cell_type": "code",
   "execution_count": 22,
   "metadata": {
    "collapsed": false
   },
   "outputs": [
    {
     "data": {
      "image/png": "[encoded data removed]",
      "text/latex": [
       "$$\\frac{4 \\sqrt{2} \\sqrt{I_{{SS}}} \\sqrt{L}}{\\sqrt{C_{{ox}}} \\sqrt{W} \\sqrt{\\mu_n}} \\sqrt{- \\frac{3}{50} + \\frac{\\sqrt{109}}{50}}$$"
      ],
      "text/plain": [
       "                       _____________\n",
       "       ________       ╱   3    √109 \n",
       "4⋅√2⋅╲╱ I_{SS} ⋅√L⋅  ╱  - ── + ──── \n",
       "                   ╲╱     50    50  \n",
       "────────────────────────────────────\n",
       "        ________      _______       \n",
       "      ╲╱ C_{ox} ⋅√W⋅╲╱ \\mu_n        "
      ]
     },
     "execution_count": 22,
     "metadata": {},
     "output_type": "execute_result"
    }
   ],
   "source": [
    "IIP3 = IIP3_n[2]\n",
    "IIP3"
   ]
  },
  {
   "cell_type": "markdown",
   "metadata": {},
   "source": [
    "We now will verify some of this results using numpy."
   ]
  },
  {
   "cell_type": "markdown",
   "metadata": {},
   "source": [
    "# Numeric verifcation"
   ]
  },
  {
   "cell_type": "code",
   "execution_count": 23,
   "metadata": {
    "collapsed": true
   },
   "outputs": [],
   "source": [
    "import sympy as sym\n",
    "import numpy as np \n",
    "import matplotlib as mpl \n",
    "import matplotlib.pyplot as plt\n",
    "%matplotlib inline"
   ]
  },
  {
   "cell_type": "code",
   "execution_count": 24,
   "metadata": {
    "collapsed": false
   },
   "outputs": [],
   "source": [
    "# Conver expresion from sympy to numpy\n",
    "Id_num = sym.lambdify((un, Cox, W, L, vd, ISS), Id, modules='numpy')\n",
    "A1dB_num = sym.lambdify((un, Cox, W, L, ISS), A1dB, modules='numpy')\n",
    "un_val = 17.72e-3 # m**2/V*s\n",
    "Cox_val = 17.26e-3  #  F/m**2\n",
    "W_val = 10e-6  # m\n",
    "L_val = 1e-6# m\n",
    "vd_val = np.logspace(-1, -0.1, 100)\n",
    "ISS_val = 1e-3\n",
    "Id = Id_num(un_val, Cox_val, W_val, L_val, vd_val, ISS_val)\n",
    "A1dB = A1dB_num(un_val, Cox_val, W_val, L_val, ISS_val)"
   ]
  },
  {
   "cell_type": "code",
   "execution_count": 25,
   "metadata": {
    "collapsed": false
   },
   "outputs": [],
   "source": [
    "## calculate the 1dB compresion point numerically\n",
    "def find_A1dB(x, y):\n",
    "    a1 = np.diff(y)/np.diff(x)\n",
    "    a1 = a1[0]\n",
    "    y_linear_dB = 20*np.log10(a1*x)\n",
    "    ix, = np.where(y_linear_dB - 20*np.log10(y) > 1)\n",
    "    return y_linear_dB, ix[0]"
   ]
  },
  {
   "cell_type": "code",
   "execution_count": 26,
   "metadata": {
    "collapsed": false
   },
   "outputs": [],
   "source": [
    "y_linear_dB, ix  = find_A1dB(vd_val, Id)"
   ]
  },
  {
   "cell_type": "code",
   "execution_count": 27,
   "metadata": {
    "collapsed": false
   },
   "outputs": [
    {
     "name": "stdout",
     "output_type": "stream",
     "text": [
      "1dB  numeric 0.545(V)\n",
      "1dB  sympy 0.599(V)\n"
     ]
    },
    {
     "data": {
      "image/png": "[encoded data removed]",
      "text/plain": [
       "<matplotlib.figure.Figure at 0x109f46110>"
      ]
     },
     "metadata": {},
     "output_type": "display_data"
    }
   ],
   "source": [
    "fig, ax = plt.subplots(1,1)\n",
    "ax.semilogx(vd_val, 20*np.log10(Id), label = \"non-linear\")\n",
    "ax.semilogx(vd_val, y_linear_dB, label = 'linear')\n",
    "ax.semilogx(vd_val[ix], y_linear_dB[ix], 'o', label = '1dB')\n",
    "A1dB_num  = vd_val[ix]\n",
    "print(\"1dB  numeric {:2.3f}(V)\".format(A1dB_num))\n",
    "print(\"1dB  sympy {:2.3f}(V)\".format(A1dB))"
   ]
  },
  {
   "cell_type": "markdown",
   "metadata": {},
   "source": [
    "# Conclution\n",
    "This entry shows how to use Sympy to calculate the 1dB and IIP3 for some aribitrary function using Sympy. "
   ]
  },
  {
   "cell_type": "markdown",
   "metadata": {},
   "source": [
    "## References\n",
    "[1]B. Razavi, RF Microelectronics, 2 edition. Upper Saddle River, NJ: Prentice Hall, 2011.\n"
   ]
  },
  {
   "cell_type": "markdown",
   "metadata": {},
   "source": [
    "## Annex 1.  Over trigonometric expansion in sympy\n",
    "Sympy does not have a function to reduce the order of sinousoidals of the form $sin(x)^n$, the only functions that do something similar  is sympy.simplify.fu.TR7 but they only work for orders smaller than 3."
   ]
  },
  {
   "cell_type": "code",
   "execution_count": 28,
   "metadata": {
    "collapsed": false
   },
   "outputs": [],
   "source": [
    "from sympy import *\n",
    "def trig_expand(expr):\n",
    "    return expr.rewrite(sin, exp).rewrite(cos, exp).expand().rewrite(exp, sin).simplify()"
   ]
  },
  {
   "cell_type": "code",
   "execution_count": 29,
   "metadata": {
    "collapsed": false
   },
   "outputs": [
    {
     "data": {
      "image/png": "[encoded data removed]",
      "text/latex": [
       "$$\\frac{5}{8} \\sin{\\left (x \\right )} - \\frac{5}{16} \\sin{\\left (3 x \\right )} + \\frac{1}{16} \\sin{\\left (5 x \\right )}$$"
      ],
      "text/plain": [
       "5⋅sin(x)   5⋅sin(3⋅x)   sin(5⋅x)\n",
       "──────── - ────────── + ────────\n",
       "   8           16          16   "
      ]
     },
     "execution_count": 29,
     "metadata": {},
     "output_type": "execute_result"
    }
   ],
   "source": [
    "trig_expand(sin(x)**5)"
   ]
  },
  {
   "cell_type": "code",
   "execution_count": 30,
   "metadata": {
    "collapsed": false
   },
   "outputs": [
    {
     "data": {
      "image/png": "[encoded data removed]",
      "text/latex": [
       "$$\\frac{5}{8} \\cos{\\left (x \\right )} + \\frac{5}{16} \\cos{\\left (3 x \\right )} + \\frac{1}{16} \\cos{\\left (5 x \\right )}$$"
      ],
      "text/plain": [
       "5⋅cos(x)   5⋅cos(3⋅x)   cos(5⋅x)\n",
       "──────── + ────────── + ────────\n",
       "   8           16          16   "
      ]
     },
     "execution_count": 30,
     "metadata": {},
     "output_type": "execute_result"
    }
   ],
   "source": [
    "trig_expand(cos(x)**5)"
   ]
  }
 ],
 "metadata": {
  "kernelspec": {
   "display_name": "Python 2",
   "language": "python",
   "name": "python2"
  },
  "language_info": {
   "codemirror_mode": {
    "name": "ipython",
    "version": 2
   },
   "file_extension": ".py",
   "mimetype": "text/x-python",
   "name": "python",
   "nbconvert_exporter": "python",
   "pygments_lexer": "ipython2",
   "version": "2.7.10"
  }
 },
 "nbformat": 4,
 "nbformat_minor": 0
}
